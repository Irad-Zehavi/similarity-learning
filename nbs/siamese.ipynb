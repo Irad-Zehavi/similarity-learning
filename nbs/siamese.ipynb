{
 "cells": [
  {
   "attachments": {},
   "cell_type": "markdown",
   "metadata": {},
   "source": [
    "# Siamese Neural Network\n",
    "\n",
    "> An architecture for comparing pairs of inputs"
   ]
  },
  {
   "cell_type": "code",
   "execution_count": null,
   "metadata": {},
   "outputs": [],
   "source": [
    "#| default_exp siamese"
   ]
  },
  {
   "cell_type": "code",
   "execution_count": null,
   "metadata": {},
   "outputs": [],
   "source": [
    "#| hide\n",
    "from nbdev.showdoc import *\n",
    "from similarity_learning.utils import *"
   ]
  },
  {
   "cell_type": "code",
   "execution_count": null,
   "metadata": {},
   "outputs": [],
   "source": [
    "#| hide\n",
    "fix_notebook_widgets()"
   ]
  },
  {
   "cell_type": "code",
   "execution_count": null,
   "metadata": {},
   "outputs": [],
   "source": [
    "#| export\n",
    "from torch import nn\n",
    "from torch.nn.functional import normalize\n",
    "\n",
    "from fastai.vision.all import *\n",
    "\n",
    "\n",
    "def normalized_squared_euclidean_distance(x1, x2):\n",
    "    \"\"\"\n",
    "    Squared Euclidean distance over normalized vectors:\n",
    "    $$\\| x_1/\\|x_1\\|-x_2/\\|x_2\\| \\|^2 $$\n",
    "    \"\"\"\n",
    "    assert x1.dim() <= 2\n",
    "    assert x2.dim() <= 2\n",
    "    x1 = normalize(x1, dim=-1)\n",
    "    x2 = normalize(x2, dim=-1)\n",
    "    return (x1 - x2).pow(2).sum(dim=-1)\n",
    "\n",
    "\n",
    "class ContrastiveLoss(BaseLoss):\n",
    "    @delegates(nn.HingeEmbeddingLoss)\n",
    "    def __init__(self, **kwargs):\n",
    "        super().__init__(loss_cls=nn.HingeEmbeddingLoss, **kwargs)\n",
    "\n",
    "    def __call__(self, input, target):\n",
    "        return super().__call__(input, 2*target-1)  # hinge_embedding_loss expects targets to be 1 or -1\n",
    "\n",
    "\n",
    "# @dataclass\n",
    "class DistanceSiamese(Module):\n",
    "    \"\"\"Outputs the distance between two inputs in feature space\"\"\"\n",
    "    def __init__(self, \n",
    "                 backbone: Module,  # embeds inputs in a feature space\n",
    "                 distance_metric = normalized_squared_euclidean_distance):\n",
    "        self.backbone = backbone\n",
    "        self.distance_metric = distance_metric\n",
    "\n",
    "    def forward(self, x):\n",
    "        f1, f2 = L(x).map(self.backbone).map(nn.Flatten())\n",
    "        return self.distance_metric(f1, f2)\n"
   ]
  },
  {
   "cell_type": "code",
   "execution_count": null,
   "metadata": {},
   "outputs": [],
   "source": [
    "from fastai_datasets.all import *"
   ]
  },
  {
   "cell_type": "code",
   "execution_count": null,
   "metadata": {},
   "outputs": [],
   "source": [
    "classifier = resnet34(weights=ResNet34_Weights.DEFAULT)\n",
    "siamese = DistanceSiamese(create_body(model=classifier, cut=-1)).cuda()"
   ]
  },
  {
   "cell_type": "code",
   "execution_count": null,
   "metadata": {},
   "outputs": [
    {
     "data": {
      "application/vnd.jupyter.widget-view+json": {
       "model_id": "6a0c0668ecc64e729f4b8aea511a6981",
       "version_major": 2,
       "version_minor": 0
      },
      "text/plain": [
       "Class map: scanning targets: 0it [00:00, ?it/s]"
      ]
     },
     "metadata": {},
     "output_type": "display_data"
    },
    {
     "data": {
      "application/vnd.jupyter.widget-view+json": {
       "model_id": "3e1e82b75a5d4c6591bb0d730309bdcf",
       "version_major": 2,
       "version_minor": 0
      },
      "text/plain": [
       "Generating positive pairs:   0%|          | 0/473 [00:00<?, ?it/s]"
      ]
     },
     "metadata": {},
     "output_type": "display_data"
    },
    {
     "data": {
      "application/vnd.jupyter.widget-view+json": {
       "model_id": "716f6f8a81dc4ae1853ab5a45c8332a7",
       "version_major": 2,
       "version_minor": 0
      },
      "text/plain": [
       "Generating negative pairs:   0%|          | 0/473 [00:00<?, ?it/s]"
      ]
     },
     "metadata": {},
     "output_type": "display_data"
    },
    {
     "data": {
      "application/vnd.jupyter.widget-view+json": {
       "model_id": "c7f81520e9834e1f8d030c235e5e45e4",
       "version_major": 2,
       "version_minor": 0
      },
      "text/plain": [
       "Class map: scanning targets: 0it [00:00, ?it/s]"
      ]
     },
     "metadata": {},
     "output_type": "display_data"
    },
    {
     "data": {
      "application/vnd.jupyter.widget-view+json": {
       "model_id": "178993adc63d49c98a35fba704399760",
       "version_major": 2,
       "version_minor": 0
      },
      "text/plain": [
       "Generating positive pairs:   0%|          | 0/196 [00:00<?, ?it/s]"
      ]
     },
     "metadata": {},
     "output_type": "display_data"
    },
    {
     "data": {
      "application/vnd.jupyter.widget-view+json": {
       "model_id": "321acbf812df421d8c24d7945f13754d",
       "version_major": 2,
       "version_minor": 0
      },
      "text/plain": [
       "Generating negative pairs:   0%|          | 0/196 [00:00<?, ?it/s]"
      ]
     },
     "metadata": {},
     "output_type": "display_data"
    }
   ],
   "source": [
    "pairs = Pairs(Imagenette(160), .1)\n",
    "dls = pairs.dls(after_item=Resize(128),\n",
    "                after_batch=Normalize.from_stats(*imagenet_stats))"
   ]
  },
  {
   "attachments": {},
   "cell_type": "markdown",
   "metadata": {},
   "source": [
    "When starting with a decent backbone, positive pairs are closer than negative pairs:"
   ]
  },
  {
   "cell_type": "code",
   "execution_count": null,
   "metadata": {},
   "outputs": [
    {
     "data": {
      "text/plain": [
       "(0.9166696071624756, 1.1699669361114502)"
      ]
     },
     "execution_count": null,
     "metadata": {},
     "output_type": "execute_result"
    }
   ],
   "source": [
    "x, y = dls.one_batch()\n",
    "positive_pairs = x[0][y==1], x[1][y==1]\n",
    "negative_pairs = x[0][y==0], x[1][y==0]\n",
    "siamese(positive_pairs).mean().item(), siamese(negative_pairs).mean().item()"
   ]
  },
  {
   "attachments": {},
   "cell_type": "markdown",
   "metadata": {},
   "source": [
    "Train with contrastive loss:"
   ]
  },
  {
   "cell_type": "code",
   "execution_count": null,
   "metadata": {},
   "outputs": [
    {
     "data": {
      "text/html": [
       "<table border=\"1\" class=\"dataframe\">\n",
       "  <thead>\n",
       "    <tr style=\"text-align: left;\">\n",
       "      <th>epoch</th>\n",
       "      <th>train_loss</th>\n",
       "      <th>valid_loss</th>\n",
       "      <th>time</th>\n",
       "    </tr>\n",
       "  </thead>\n",
       "  <tbody>\n",
       "    <tr>\n",
       "      <td>0</td>\n",
       "      <td>0.441342</td>\n",
       "      <td>0.366875</td>\n",
       "      <td>00:09</td>\n",
       "    </tr>\n",
       "    <tr>\n",
       "      <td>1</td>\n",
       "      <td>0.355776</td>\n",
       "      <td>0.414326</td>\n",
       "      <td>00:09</td>\n",
       "    </tr>\n",
       "    <tr>\n",
       "      <td>2</td>\n",
       "      <td>0.301716</td>\n",
       "      <td>0.283433</td>\n",
       "      <td>00:09</td>\n",
       "    </tr>\n",
       "  </tbody>\n",
       "</table>"
      ],
      "text/plain": [
       "<IPython.core.display.HTML object>"
      ]
     },
     "metadata": {},
     "output_type": "display_data"
    }
   ],
   "source": [
    "learn = Learner(dls, siamese, ContrastiveLoss(margin=1.5))\n",
    "learn.fit_one_cycle(3)"
   ]
  },
  {
   "cell_type": "code",
   "execution_count": null,
   "metadata": {},
   "outputs": [
    {
     "data": {
      "text/plain": [
       "(0.2568347156047821, 1.5866713523864746)"
      ]
     },
     "execution_count": null,
     "metadata": {},
     "output_type": "execute_result"
    }
   ],
   "source": [
    "x, y = dls.one_batch()\n",
    "positive_pairs = x[0][y==1], x[1][y==1]\n",
    "negative_pairs = x[0][y==0], x[1][y==0]\n",
    "siamese(positive_pairs).mean().item(), siamese(negative_pairs).mean().item()"
   ]
  },
  {
   "cell_type": "code",
   "execution_count": null,
   "metadata": {},
   "outputs": [],
   "source": [
    "#| hide\n",
    "import nbdev; nbdev.nbdev_export()"
   ]
  }
 ],
 "metadata": {
  "kernelspec": {
   "display_name": "python3",
   "language": "python",
   "name": "python3"
  }
 },
 "nbformat": 4,
 "nbformat_minor": 4
}
