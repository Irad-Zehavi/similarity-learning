{
 "cells": [
  {
   "attachments": {},
   "cell_type": "markdown",
   "metadata": {},
   "source": [
    "# Siamese Neural Network\n",
    "\n",
    "> An architecture for comparing pairs of inputs"
   ]
  },
  {
   "cell_type": "code",
   "execution_count": null,
   "metadata": {},
   "outputs": [],
   "source": [
    "#| default_exp siamese"
   ]
  },
  {
   "cell_type": "code",
   "execution_count": null,
   "metadata": {},
   "outputs": [],
   "source": [
    "#| hide\n",
    "from nbdev.showdoc import *"
   ]
  },
  {
   "cell_type": "code",
   "execution_count": null,
   "metadata": {},
   "outputs": [],
   "source": [
    "#| export\n",
    "from torch import nn\n",
    "from torch.nn.functional import normalize\n",
    "\n",
    "from fastai.vision.all import *\n",
    "\n",
    "\n",
    "def normalized_squared_euclidean_distance(x1, x2):\n",
    "    r\"\"\"\n",
    "    Squared Euclidean distance over normalized vectors:\n",
    "    $$\\left\\| \\frac{x_1}{\\|x_1\\|}-\\frac{x_2}{\\|x_2\\|} \\right\\|^2 $$\n",
    "    \"\"\"\n",
    "    assert x1.dim() <= 2\n",
    "    assert x2.dim() <= 2\n",
    "    x1 = normalize(x1, dim=-1)\n",
    "    x2 = normalize(x2, dim=-1)\n",
    "    return (x1 - x2).pow(2).sum(dim=-1)\n",
    "\n",
    "\n",
    "class ContrastiveLoss(BaseLoss):\n",
    "    @delegates(nn.HingeEmbeddingLoss)\n",
    "    def __init__(self, **kwargs):\n",
    "        super().__init__(loss_cls=nn.HingeEmbeddingLoss, **kwargs)\n",
    "\n",
    "    def __call__(self, input, target):\n",
    "        return super().__call__(input, 2*target-1)  # hinge_embedding_loss expects targets to be 1 or -1\n",
    "\n",
    "\n",
    "# @dataclass\n",
    "class DistanceSiamese(Module):\n",
    "    \"\"\"Outputs the distance between two inputs in feature space\"\"\"\n",
    "    def __init__(self, \n",
    "                 backbone: Module,  # embeds inputs in a feature space\n",
    "                 distance_metric = normalized_squared_euclidean_distance):\n",
    "        self.backbone = backbone\n",
    "        self.distance_metric = distance_metric\n",
    "\n",
    "    def forward(self, x):\n",
    "        f1, f2 = L(x).map(self.backbone).map(nn.Flatten())\n",
    "        return self.distance_metric(f1, f2)\n"
   ]
  },
  {
   "cell_type": "code",
   "execution_count": null,
   "metadata": {},
   "outputs": [],
   "source": [
    "#| export\n",
    "from matplotlib.ticker import PercentFormatter\n",
    "from fastprogress.fastprogress import *\n",
    "import numpy as np\n",
    "\n",
    "@patch\n",
    "def plot_distance_histogram(self: DistanceSiamese, pairs_dl: TfmdDL, label='Distance'):\n",
    "    \"\"\"Plots a histogram of intra-class and inter-class distances\"\"\"\n",
    "    self.eval().to(pairs_dl.device)\n",
    "    \n",
    "    with torch.no_grad():\n",
    "        processed_batches = [(self(x), y) for x, y in progress_bar(pairs_dl, leave=False)]\n",
    "        distances, targets = [torch.cat(o).cpu().numpy() for o in zip(*processed_batches)]\n",
    "\n",
    "    _hist(distances[targets==1], 'Intra-Class')\n",
    "    _hist(distances[targets==0], 'Inter-Class')\n",
    "    \n",
    "    plt.legend()\n",
    "    plt.xlabel(label)\n",
    "\n",
    "def _hist(distances, label=None):\n",
    "    weights = np.ones_like(distances) / len(distances)  # normalization for percentage ticks\n",
    "    plt.hist(distances, label=label, alpha=.5, edgecolor='black', lw=1, weights=weights)\n",
    "    plt.gca().yaxis.set_major_formatter(PercentFormatter(1))"
   ]
  },
  {
   "cell_type": "code",
   "execution_count": null,
   "metadata": {},
   "outputs": [],
   "source": [
    "from fastai_datasets.all import *"
   ]
  },
  {
   "cell_type": "code",
   "execution_count": null,
   "metadata": {},
   "outputs": [],
   "source": [
    "classifier = resnet34(weights=ResNet34_Weights.DEFAULT)\n",
    "siamese = DistanceSiamese(create_body(model=classifier, cut=-1))"
   ]
  },
  {
   "cell_type": "code",
   "execution_count": null,
   "metadata": {},
   "outputs": [
    {
     "data": {
      "text/html": [],
      "text/plain": [
       "<IPython.core.display.HTML object>"
      ]
     },
     "metadata": {},
     "output_type": "display_data"
    }
   ],
   "source": [
    "pairs = Pairs(Imagenette(160), .1)\n",
    "dls = pairs.dls(after_item=Resize(128),\n",
    "                after_batch=Normalize.from_stats(*imagenet_stats))"
   ]
  },
  {
   "attachments": {},
   "cell_type": "markdown",
   "metadata": {},
   "source": [
    "When starting with a decent backbone, positive pairs are closer than negative pairs:"
   ]
  },
  {
   "cell_type": "code",
   "execution_count": null,
   "metadata": {},
   "outputs": [
    {
     "data": {
      "text/html": [],
      "text/plain": [
       "<IPython.core.display.HTML object>"
      ]
     },
     "metadata": {},
     "output_type": "display_data"
    },
    {
     "data": {
      "image/png": "[encoded data removed]",
      "text/plain": [
       "<Figure size 640x480 with 1 Axes>"
      ]
     },
     "metadata": {},
     "output_type": "display_data"
    }
   ],
   "source": [
    "siamese.plot_distance_histogram(dls.valid)"
   ]
  },
  {
   "attachments": {},
   "cell_type": "markdown",
   "metadata": {},
   "source": [
    "Train with contrastive loss:"
   ]
  },
  {
   "cell_type": "code",
   "execution_count": null,
   "metadata": {},
   "outputs": [
    {
     "data": {
      "text/html": [
       "<table border=\"1\" class=\"dataframe\">\n",
       "  <thead>\n",
       "    <tr style=\"text-align: left;\">\n",
       "      <th>epoch</th>\n",
       "      <th>train_loss</th>\n",
       "      <th>valid_loss</th>\n",
       "      <th>time</th>\n",
       "    </tr>\n",
       "  </thead>\n",
       "  <tbody>\n",
       "    <tr>\n",
       "      <td>0</td>\n",
       "      <td>0.431103</td>\n",
       "      <td>0.475045</td>\n",
       "      <td>00:12</td>\n",
       "    </tr>\n",
       "    <tr>\n",
       "      <td>1</td>\n",
       "      <td>0.325288</td>\n",
       "      <td>0.382971</td>\n",
       "      <td>00:16</td>\n",
       "    </tr>\n",
       "    <tr>\n",
       "      <td>2</td>\n",
       "      <td>0.272254</td>\n",
       "      <td>0.308985</td>\n",
       "      <td>00:17</td>\n",
       "    </tr>\n",
       "  </tbody>\n",
       "</table>"
      ],
      "text/plain": [
       "<IPython.core.display.HTML object>"
      ]
     },
     "metadata": {},
     "output_type": "display_data"
    }
   ],
   "source": [
    "learn = Learner(dls, siamese, ContrastiveLoss(margin=1.5))\n",
    "learn.fit_one_cycle(3)"
   ]
  },
  {
   "cell_type": "code",
   "execution_count": null,
   "metadata": {},
   "outputs": [
    {
     "data": {
      "text/html": [],
      "text/plain": [
       "<IPython.core.display.HTML object>"
      ]
     },
     "metadata": {},
     "output_type": "display_data"
    },
    {
     "data": {
      "image/png": "[encoded data removed]",
      "text/plain": [
       "<Figure size 640x480 with 1 Axes>"
      ]
     },
     "metadata": {},
     "output_type": "display_data"
    }
   ],
   "source": [
    "siamese.plot_distance_histogram(dls.valid)"
   ]
  },
  {
   "cell_type": "code",
   "execution_count": null,
   "metadata": {},
   "outputs": [],
   "source": [
    "#| hide\n",
    "import nbdev; nbdev.nbdev_export()"
   ]
  }
 ],
 "metadata": {
  "kernelspec": {
   "display_name": "python3",
   "language": "python",
   "name": "python3"
  }
 },
 "nbformat": 4,
 "nbformat_minor": 4
}
