{
 "cells": [
  {
   "cell_type": "markdown",
   "metadata": {},
   "source": [
    "# Utils"
   ]
  },
  {
   "cell_type": "code",
   "execution_count": null,
   "metadata": {},
   "outputs": [],
   "source": [
    "#| default_exp utils"
   ]
  },
  {
   "cell_type": "code",
   "execution_count": null,
   "metadata": {},
   "outputs": [],
   "source": [
    "#| export\n",
    "def fix_notebook_widgets():\n",
    "    \"\"\"\n",
    "    BUgfix: fastprogress bars not showing in VSCode notebooks.\n",
    "    Taken from https://github.com/microsoft/vscode-jupyter/issues/13163\n",
    "    \"\"\"\n",
    "    from IPython.display import clear_output, DisplayHandle\n",
    "    def update_patch(self, obj):\n",
    "        clear_output(wait=True)\n",
    "        self.display(obj)\n",
    "    DisplayHandle.update = update_patch"
   ]
  },
  {
   "cell_type": "code",
   "execution_count": null,
   "metadata": {},
   "outputs": [],
   "source": [
    "#| export\n",
    "import torch\n",
    "from torch import nn\n",
    "\n",
    "from fastai.vision.all import *\n",
    "\n",
    "class Threshold(nn.Module):\n",
    "    \"\"\"Classifies 1D inputs into 2 classes, based on whether they surpass a threshold or not\"\"\"\n",
    "    def __init__(self) -> None:\n",
    "        super().__init__()\n",
    "        self.t = nn.Parameter(torch.zeros(1))\n",
    "\n",
    "    def forward(self, x):\n",
    "        x = x - self.t\n",
    "        return torch.stack([x, -x], dim=-1)"
   ]
  },
  {
   "cell_type": "code",
   "execution_count": null,
   "metadata": {},
   "outputs": [],
   "source": [
    "threshold = Threshold()\n",
    "with torch.no_grad():\n",
    "    threshold.t[0] = 3\n",
    "\n",
    "test_eq(threshold(torch.arange(10)).argmax(1), torch.tensor([1]*3+[0]*7))"
   ]
  },
  {
   "attachments": {},
   "cell_type": "markdown",
   "metadata": {},
   "source": [
    "Since this is such a simple model, we can fit it to data without iterative optimization:"
   ]
  },
  {
   "cell_type": "code",
   "execution_count": null,
   "metadata": {},
   "outputs": [],
   "source": [
    "#| export\n",
    "@patch\n",
    "def fit(self: Threshold, x, y):\n",
    "    \"\"\"Picks a threshold that maximizes the empirical accuracy\"\"\"\n",
    "    with torch.no_grad():\n",
    "        def accuracy_for_threshold(t):\n",
    "            self.t[0] = t\n",
    "            return accuracy(self(x), y)\n",
    "\n",
    "        threshold_candidates = np.arange(0.0, 4.0, 0.01)\n",
    "        self.t[0], accuracy_score = max(((t, accuracy_for_threshold(t)) for t in threshold_candidates),\n",
    "                                                key=lambda p: p[1])\n",
    "\n",
    "        return self.t.item(), accuracy_score.item()\n"
   ]
  },
  {
   "cell_type": "code",
   "execution_count": null,
   "metadata": {},
   "outputs": [],
   "source": [
    "threshold = Threshold()\n",
    "x = torch.randint(high=10, size=(100,))\n",
    "chosen_threshold, _ = threshold.fit(x, x < 3)\n",
    "\n",
    "test_close(chosen_threshold, 3, eps=1)"
   ]
  },
  {
   "cell_type": "code",
   "execution_count": null,
   "metadata": {},
   "outputs": [],
   "source": [
    "#| hide\n",
    "import nbdev; nbdev.nbdev_export()"
   ]
  }
 ],
 "metadata": {
  "kernelspec": {
   "display_name": "python3",
   "language": "python",
   "name": "python3"
  }
 },
 "nbformat": 4,
 "nbformat_minor": 2
}
