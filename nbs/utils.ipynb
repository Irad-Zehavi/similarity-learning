{
 "cells": [
  {
   "attachments": {},
   "cell_type": "markdown",
   "metadata": {},
   "source": [
    "# Utils"
   ]
  },
  {
   "cell_type": "code",
   "execution_count": null,
   "metadata": {},
   "outputs": [],
   "source": [
    "#| default_exp utils"
   ]
  },
  {
   "cell_type": "code",
   "execution_count": null,
   "metadata": {},
   "outputs": [],
   "source": [
    "#| hide\n",
    "from nbdev.showdoc import *"
   ]
  },
  {
   "cell_type": "code",
   "execution_count": null,
   "metadata": {},
   "outputs": [],
   "source": [
    "#| export\n",
    "from fastai.vision.all import *\n",
    "from torchvision.models.feature_extraction import create_feature_extractor\n",
    "\n",
    "from fastai_datasets.all import *"
   ]
  },
  {
   "cell_type": "code",
   "execution_count": null,
   "metadata": {},
   "outputs": [],
   "source": [
    "#| export\n",
    "def as_percentage(x, ndigits=2):\n",
    "    return f'{round(x * 100, ndigits=ndigits)}%'"
   ]
  },
  {
   "cell_type": "code",
   "execution_count": null,
   "metadata": {},
   "outputs": [],
   "source": [
    "#| export\n",
    "def cut_model_by_name(model, cut):\n",
    "    graph = create_feature_extractor(model, [cut])\n",
    "    base_forward = graph.forward\n",
    "    graph.forward = lambda *args, **kwargs: base_forward(*args, **kwargs)[cut]\n",
    "    return graph"
   ]
  },
  {
   "cell_type": "code",
   "execution_count": null,
   "metadata": {},
   "outputs": [],
   "source": [
    "classifier = resnet34()\n",
    "body = cut_model_by_name(classifier, 'avgpool')\n",
    "test(body, 'avgpool', hasattr)\n",
    "assert not hasattr(body, 'fc')"
   ]
  },
  {
   "cell_type": "code",
   "execution_count": null,
   "metadata": {},
   "outputs": [],
   "source": [
    "#| export\n",
    "class MLP(Module):\n",
    "    \"\"\"\n",
    "    A Multilayer Perceptron comprized of linear layers with ReLU activations.\n",
    "    \"\"\"\n",
    "    def __init__(self,\n",
    "                 logits: Optional[int], # Number of logits. pass `None` to not include a logits layer after the hidden layers\n",
    "                 hidden_depth=5, # Number of hidden layers\n",
    "                 hidden_width=512, # Number of neurons in each hidden layer\n",
    "                 features_dim=None  # Number of neurons in the last hidden layer. Pass `None` to use the same value as the other hidden layers\n",
    "                 ):\n",
    "        super().__init__()\n",
    "        features_dim = features_dim or hidden_width\n",
    "\n",
    "        def generate_hidden_layers():\n",
    "            if hidden_depth == 0:\n",
    "                return\n",
    "            if hidden_depth >= 2:\n",
    "                yield nn.LazyLinear(hidden_width)\n",
    "                yield nn.ReLU()\n",
    "                for _ in range(hidden_depth - 2):\n",
    "                    yield nn.Linear(hidden_width, hidden_width)\n",
    "                    yield nn.ReLU()\n",
    "            yield nn.LazyLinear(features_dim)\n",
    "\n",
    "        self.hidden_layers = nn.Sequential(*generate_hidden_layers())\n",
    "        self.logits = nn.LazyLinear(logits) if logits else None\n",
    "\n",
    "    def forward(self, x):\n",
    "        x = x.flatten(start_dim=1)\n",
    "        x = self.hidden_layers(x)\n",
    "        if self.logits:\n",
    "            x = self.logits(x)\n",
    "        return x"
   ]
  },
  {
   "cell_type": "code",
   "execution_count": null,
   "metadata": {},
   "outputs": [],
   "source": [
    "#| export\n",
    "import torch\n",
    "from torch import nn\n",
    "\n",
    "from fastai.vision.all import *\n",
    "\n",
    "class Threshold(nn.Module):\n",
    "    \"\"\"Classifies 1D inputs into 2 classes, based on whether they surpass a threshold or not\"\"\"\n",
    "    def __init__(self) -> None:\n",
    "        super().__init__()\n",
    "        self.t = nn.Parameter(torch.zeros(1))\n",
    "\n",
    "    def forward(self, x):\n",
    "        x = x - self.t\n",
    "        return torch.stack([x, -x], dim=-1)"
   ]
  },
  {
   "cell_type": "code",
   "execution_count": null,
   "metadata": {},
   "outputs": [],
   "source": [
    "threshold = Threshold()\n",
    "with torch.no_grad():\n",
    "    threshold.t[0] = 3\n",
    "\n",
    "test_eq(threshold(torch.arange(10)).argmax(1), torch.tensor([1]*3+[0]*7))"
   ]
  },
  {
   "attachments": {},
   "cell_type": "markdown",
   "metadata": {},
   "source": [
    "Since this is such a simple model, we can fit it to data without iterative optimization:"
   ]
  },
  {
   "cell_type": "code",
   "execution_count": null,
   "metadata": {},
   "outputs": [],
   "source": [
    "#| export\n",
    "@patch\n",
    "def fit(self: Threshold, x, y):\n",
    "    \"\"\"Picks a threshold that maximizes the empirical accuracy\"\"\"\n",
    "    with torch.no_grad():\n",
    "        def accuracy_for_threshold(t):\n",
    "            self.t[0] = t\n",
    "            return accuracy(self(x), y)\n",
    "\n",
    "        threshold_candidates = np.arange(0.0, 4.0, 0.01)\n",
    "        self.t[0], accuracy_score = max(((t, accuracy_for_threshold(t)) for t in threshold_candidates),\n",
    "                                                key=lambda p: p[1])\n",
    "\n",
    "        return self.t.item(), accuracy_score.item()\n"
   ]
  },
  {
   "cell_type": "code",
   "execution_count": null,
   "metadata": {},
   "outputs": [],
   "source": [
    "threshold = Threshold()\n",
    "x = torch.randint(high=10, size=(100,))\n",
    "chosen_threshold, _ = threshold.fit(x, x < 3)\n",
    "\n",
    "test_close(chosen_threshold, 3, eps=1)"
   ]
  },
  {
   "attachments": {},
   "cell_type": "markdown",
   "metadata": {},
   "source": [
    "## Experiments"
   ]
  },
  {
   "attachments": {},
   "cell_type": "markdown",
   "metadata": {},
   "source": [
    "Sometimes we want to test a certain procedure (e.g. training a model) multiple times, examine the distribution of the resulting stats. For example, we might want to train and test the same model on different train-test splits, or even the same split to examine the effect of training stochasticity on the results.\n",
    "\n",
    "While tools like TensorBoard can be used for an in-depth analysis of the whole process (e.g. loss-by-epoch graphs), sometimes we just want to note the distribution of the end results.\n",
    "\n",
    "Averaging over multiple runs also gives more stable results, for example cross-validation gives a more accurate estimate to the model's performance than training once."
   ]
  },
  {
   "cell_type": "code",
   "execution_count": null,
   "metadata": {},
   "outputs": [],
   "source": [
    "#| export\n",
    "from abc import ABC, abstractmethod\n",
    "from dataclasses import dataclass\n",
    "\n",
    "import matplotlib.pyplot as plt\n",
    "    \n",
    "\n",
    "@dataclass\n",
    "class ExperimentalResults(object):\n",
    "    \"Provides various ways of examining the results of a `RepeatedExperiment`\"\n",
    "    stats: List[Any]\n",
    "\n",
    "    @property\n",
    "    def collated_stats(self):\n",
    "        return {k: v.numpy() for k, v in default_collate(self.stats).items()}\n",
    "\n",
    "    def plot_stats(self):\n",
    "        fig, axs = plt.subplots(len(self.collated_stats), sharex=True)\n",
    "        fig.tight_layout()\n",
    "        for ax, (stat_name, stat_values) in zip(axs, self.collated_stats.items()):\n",
    "            ax.set_title(stat_name)\n",
    "\n",
    "            min_val, max_val = min(stat_values), max(stat_values)\n",
    "            val_range = max_val - min_val\n",
    "            ax.set_ylim(min_val - .1*val_range, max_val + .1*val_range)\n",
    "            \n",
    "            ax.bar(range(len(stat_values)), stat_values)\n",
    "\n",
    "    @property\n",
    "    def stat_means(self):\n",
    "        return {k: v.mean() for k, v in self.collated_stats.items()}\n",
    "\n",
    "    @property\n",
    "    def stat_stds(self):\n",
    "        return {k: v.std() for k, v in self.collated_stats.items()}\n",
    "\n",
    "\n",
    "class RepeatedExperiment(ABC):\n",
    "    \"Runs multiple independent iterations of the same procedure, and combines the results\"\n",
    "\n",
    "    def __init__(self,\n",
    "                 model: nn.Module,  # The model to be used in each iteration. Parameter are reset to their initial values before each iteration\n",
    "                 data: List[Datasets],  # A list of `Datasets`, each representing a different iteration. A `Dataloaders` of the current `Datasets` is available via `self.dls`\n",
    "                 seed: int = 0  # Used for reproducibility of results. Use `None` to avoid reproducibility\n",
    "                 ):\n",
    "        super().__init__()\n",
    "        store_attr('model, data, seed')\n",
    "    \n",
    "    def run(self) -> ExperimentalResults:\n",
    "        \"Runs the experiment, returning the results as an `ExperimentalResults`\"\n",
    "        return ExperimentalResults(self._run())\n",
    "\n",
    "    @return_list\n",
    "    def _run(self):\n",
    "        if self.seed is not None:\n",
    "            set_seed(self.seed, reproducible=True)\n",
    "\n",
    "        initial_state_dict = deepcopy(self.model.state_dict())\n",
    "\n",
    "        splits = master_bar(self.data)\n",
    "        for i, split in enumerate(splits):\n",
    "            self.dls = split.dls()\n",
    "            yield self.iteration()\n",
    "            self.model.load_state_dict(initial_state_dict)\n",
    "\n",
    "    @abstractmethod\n",
    "    def iteration(self) -> Dict[str, Any]:\n",
    "        pass"
   ]
  },
  {
   "cell_type": "code",
   "execution_count": null,
   "metadata": {},
   "outputs": [
    {
     "data": {
      "text/markdown": [
       "---\n",
       "\n",
       "[source](https://github.com/Irad-Zehavi/similarity-learning/blob/main/similarity_learning/utils.py#L137){target=\"_blank\" style=\"float:right; font-size:smaller\"}\n",
       "\n",
       "### RepeatedExperiment.run\n",
       "\n",
       ">      RepeatedExperiment.run ()\n",
       "\n",
       "Runs the experiment, returning the results as an `ExperimentalResults`"
      ],
      "text/plain": [
       "---\n",
       "\n",
       "[source](https://github.com/Irad-Zehavi/similarity-learning/blob/main/similarity_learning/utils.py#L137){target=\"_blank\" style=\"float:right; font-size:smaller\"}\n",
       "\n",
       "### RepeatedExperiment.run\n",
       "\n",
       ">      RepeatedExperiment.run ()\n",
       "\n",
       "Runs the experiment, returning the results as an `ExperimentalResults`"
      ]
     },
     "execution_count": null,
     "metadata": {},
     "output_type": "execute_result"
    }
   ],
   "source": [
    "show_doc(RepeatedExperiment.run)"
   ]
  },
  {
   "attachments": {},
   "cell_type": "markdown",
   "metadata": {},
   "source": [
    "For example, we can train a linear classifier for `MNIST` multiple times and check distribution of accuracies:"
   ]
  },
  {
   "cell_type": "code",
   "execution_count": null,
   "metadata": {},
   "outputs": [
    {
     "data": {
      "text/html": [],
      "text/plain": [
       "<IPython.core.display.HTML object>"
      ]
     },
     "metadata": {},
     "output_type": "display_data"
    }
   ],
   "source": [
    "class LinearMNIST(RepeatedExperiment):\n",
    "    def iteration(self):\n",
    "        learn = Learner(self.dls, self.model, metrics=accuracy)\n",
    "        learn.fit(1)\n",
    "        return dict(zip(['loss', 'accuracy'], learn.validate()))\n",
    "    \n",
    "res = LinearMNIST(model=nn.Sequential(nn.Flatten(), nn.Linear(28*28, 2)),\n",
    "                  data=[TinyMNIST() for _ in range(10)]).run()"
   ]
  },
  {
   "cell_type": "code",
   "execution_count": null,
   "metadata": {},
   "outputs": [
    {
     "data": {
      "text/plain": [
       "[{'loss': 0.3591866195201874, 'accuracy': 0.9742489457130432},\n",
       " {'loss': 0.34896886348724365, 'accuracy': 0.9756795167922974},\n",
       " {'loss': 0.3619726896286011, 'accuracy': 0.9771101474761963},\n",
       " {'loss': 0.3663684129714966, 'accuracy': 0.9756795167922974},\n",
       " {'loss': 0.35216033458709717, 'accuracy': 0.9756795167922974},\n",
       " {'loss': 0.35451024770736694, 'accuracy': 0.9771101474761963},\n",
       " {'loss': 0.35790905356407166, 'accuracy': 0.9742489457130432},\n",
       " {'loss': 0.3541954755783081, 'accuracy': 0.9756795167922974},\n",
       " {'loss': 0.3539672791957855, 'accuracy': 0.9771101474761963},\n",
       " {'loss': 0.3568763732910156, 'accuracy': 0.9771101474761963}]"
      ]
     },
     "execution_count": null,
     "metadata": {},
     "output_type": "execute_result"
    }
   ],
   "source": [
    "res.stats"
   ]
  },
  {
   "cell_type": "code",
   "execution_count": null,
   "metadata": {},
   "outputs": [
    {
     "data": {
      "text/markdown": [
       "---\n",
       "\n",
       "[source](https://github.com/Irad-Zehavi/similarity-learning/blob/main/similarity_learning/utils.py#L103){target=\"_blank\" style=\"float:right; font-size:smaller\"}\n",
       "\n",
       "### ExperimentalResults.collated_stats\n",
       "\n",
       ">      ExperimentalResults.collated_stats ()"
      ],
      "text/plain": [
       "---\n",
       "\n",
       "[source](https://github.com/Irad-Zehavi/similarity-learning/blob/main/similarity_learning/utils.py#L103){target=\"_blank\" style=\"float:right; font-size:smaller\"}\n",
       "\n",
       "### ExperimentalResults.collated_stats\n",
       "\n",
       ">      ExperimentalResults.collated_stats ()"
      ]
     },
     "execution_count": null,
     "metadata": {},
     "output_type": "execute_result"
    }
   ],
   "source": [
    "show_doc(ExperimentalResults.collated_stats)"
   ]
  },
  {
   "cell_type": "code",
   "execution_count": null,
   "metadata": {},
   "outputs": [
    {
     "data": {
      "text/plain": [
       "{'loss': array([0.35918662, 0.34896886, 0.36197269, 0.36636841, 0.35216033,\n",
       "        0.35451025, 0.35790905, 0.35419548, 0.35396728, 0.35687637]),\n",
       " 'accuracy': array([0.97424895, 0.97567952, 0.97711015, 0.97567952, 0.97567952,\n",
       "        0.97711015, 0.97424895, 0.97567952, 0.97711015, 0.97711015])}"
      ]
     },
     "execution_count": null,
     "metadata": {},
     "output_type": "execute_result"
    }
   ],
   "source": [
    "res.collated_stats"
   ]
  },
  {
   "cell_type": "code",
   "execution_count": null,
   "metadata": {},
   "outputs": [
    {
     "data": {
      "text/markdown": [
       "---\n",
       "\n",
       "[source](https://github.com/Irad-Zehavi/similarity-learning/blob/main/similarity_learning/utils.py#L106){target=\"_blank\" style=\"float:right; font-size:smaller\"}\n",
       "\n",
       "### ExperimentalResults.plot_stats\n",
       "\n",
       ">      ExperimentalResults.plot_stats ()"
      ],
      "text/plain": [
       "---\n",
       "\n",
       "[source](https://github.com/Irad-Zehavi/similarity-learning/blob/main/similarity_learning/utils.py#L106){target=\"_blank\" style=\"float:right; font-size:smaller\"}\n",
       "\n",
       "### ExperimentalResults.plot_stats\n",
       "\n",
       ">      ExperimentalResults.plot_stats ()"
      ]
     },
     "execution_count": null,
     "metadata": {},
     "output_type": "execute_result"
    }
   ],
   "source": [
    "show_doc(ExperimentalResults.plot_stats)"
   ]
  },
  {
   "cell_type": "code",
   "execution_count": null,
   "metadata": {},
   "outputs": [
    {
     "data": {
      "image/png": "[encoded data removed]",
      "text/plain": [
       "<Figure size 640x480 with 2 Axes>"
      ]
     },
     "metadata": {},
     "output_type": "display_data"
    }
   ],
   "source": [
    "res.plot_stats()"
   ]
  },
  {
   "cell_type": "code",
   "execution_count": null,
   "metadata": {},
   "outputs": [
    {
     "data": {
      "text/markdown": [
       "---\n",
       "\n",
       "[source](https://github.com/Irad-Zehavi/similarity-learning/blob/main/similarity_learning/utils.py#L118){target=\"_blank\" style=\"float:right; font-size:smaller\"}\n",
       "\n",
       "### ExperimentalResults.stat_means\n",
       "\n",
       ">      ExperimentalResults.stat_means ()"
      ],
      "text/plain": [
       "---\n",
       "\n",
       "[source](https://github.com/Irad-Zehavi/similarity-learning/blob/main/similarity_learning/utils.py#L118){target=\"_blank\" style=\"float:right; font-size:smaller\"}\n",
       "\n",
       "### ExperimentalResults.stat_means\n",
       "\n",
       ">      ExperimentalResults.stat_means ()"
      ]
     },
     "execution_count": null,
     "metadata": {},
     "output_type": "execute_result"
    }
   ],
   "source": [
    "show_doc(ExperimentalResults.stat_means)"
   ]
  },
  {
   "cell_type": "code",
   "execution_count": null,
   "metadata": {},
   "outputs": [
    {
     "data": {
      "text/plain": [
       "{'loss': 0.35661153495311737, 'accuracy': 0.9759656548500061}"
      ]
     },
     "execution_count": null,
     "metadata": {},
     "output_type": "execute_result"
    }
   ],
   "source": [
    "res.stat_means"
   ]
  },
  {
   "cell_type": "code",
   "execution_count": null,
   "metadata": {},
   "outputs": [
    {
     "data": {
      "text/markdown": [
       "---\n",
       "\n",
       "[source](https://github.com/Irad-Zehavi/similarity-learning/blob/main/similarity_learning/utils.py#L122){target=\"_blank\" style=\"float:right; font-size:smaller\"}\n",
       "\n",
       "### ExperimentalResults.stat_stds\n",
       "\n",
       ">      ExperimentalResults.stat_stds ()"
      ],
      "text/plain": [
       "---\n",
       "\n",
       "[source](https://github.com/Irad-Zehavi/similarity-learning/blob/main/similarity_learning/utils.py#L122){target=\"_blank\" style=\"float:right; font-size:smaller\"}\n",
       "\n",
       "### ExperimentalResults.stat_stds\n",
       "\n",
       ">      ExperimentalResults.stat_stds ()"
      ]
     },
     "execution_count": null,
     "metadata": {},
     "output_type": "execute_result"
    }
   ],
   "source": [
    "show_doc(ExperimentalResults.stat_stds)"
   ]
  },
  {
   "cell_type": "code",
   "execution_count": null,
   "metadata": {},
   "outputs": [
    {
     "data": {
      "text/plain": [
       "{'loss': 0.004772754486396994, 'accuracy': 0.0010705668573123257}"
      ]
     },
     "execution_count": null,
     "metadata": {},
     "output_type": "execute_result"
    }
   ],
   "source": [
    "res.stat_stds"
   ]
  },
  {
   "cell_type": "code",
   "execution_count": null,
   "metadata": {},
   "outputs": [],
   "source": [
    "#| hide\n",
    "import nbdev; nbdev.nbdev_export()"
   ]
  }
 ],
 "metadata": {
  "kernelspec": {
   "display_name": "python3",
   "language": "python",
   "name": "python3"
  }
 },
 "nbformat": 4,
 "nbformat_minor": 2
}
